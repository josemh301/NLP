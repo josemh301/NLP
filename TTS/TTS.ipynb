{
 "cells": [
  {
   "cell_type": "markdown",
   "metadata": {},
   "source": [
    "# X-SAMPA TTS Synthesizer\n",
    "\n",
    "**Objective**: To build a simple Text-to-Speech Synthesizer using X-SAMPA transcriptions.\n",
    "\n",
    "**Technologies**:\n",
    "- Python\n",
    "    - csv\n",
    "    - keras\n",
    "    - sklearn\n",
    "- X-Sampa\n",
    "- librosa (for audio processing)"
   ]
  },
  {
   "cell_type": "markdown",
   "metadata": {},
   "source": [
    "#### 1.1 Split the data into training, validation, and test sets."
   ]
  },
  {
   "cell_type": "code",
   "execution_count": 1,
   "metadata": {},
   "outputs": [
    {
     "name": "stdout",
     "output_type": "stream",
     "text": [
      "Train set has 184 samples.\n",
      "Validation set has 23 samples.\n",
      "Test set has 23 samples.\n"
     ]
    }
   ],
   "source": [
    "import pandas as pd\n",
    "from sklearn.model_selection import train_test_split\n",
    "\n",
    "# Load the CSV file\n",
    "data = pd.read_csv('transcription.csv')\n",
    "\n",
    "# Shuffle the data (important to ensure random distribution)\n",
    "data = data.sample(frac=1).reset_index(drop=True)\n",
    "\n",
    "# Split the data into training, validation, and test sets\n",
    "train, temp = train_test_split(data, test_size=0.20, random_state=42)\n",
    "valid, test = train_test_split(temp, test_size=0.50, random_state=42)\n",
    "\n",
    "# Save the split data into new CSV files\n",
    "train.to_csv('train.csv', index=False)\n",
    "valid.to_csv('valid.csv', index=False)\n",
    "test.to_csv('test.csv', index=False)\n",
    "\n",
    "print(f\"Train set has {train.shape[0]} samples.\")\n",
    "print(f\"Validation set has {valid.shape[0]} samples.\")\n",
    "print(f\"Test set has {test.shape[0]} samples.\")"
   ]
  },
  {
   "cell_type": "markdown",
   "metadata": {},
   "source": [
    "#### 2.1 Convert X-SAMPA transcriptions to a set of phonetic features."
   ]
  },
  {
   "cell_type": "code",
   "execution_count": 2,
   "metadata": {},
   "outputs": [
    {
     "ename": "ModuleNotFoundError",
     "evalue": "No module named 'keras'",
     "output_type": "error",
     "traceback": [
      "\u001b[1;31m---------------------------------------------------------------------------\u001b[0m",
      "\u001b[1;31mModuleNotFoundError\u001b[0m                       Traceback (most recent call last)",
      "Cell \u001b[1;32mIn[2], line 1\u001b[0m\n\u001b[1;32m----> 1\u001b[0m \u001b[38;5;28;01mfrom\u001b[39;00m \u001b[38;5;21;01mkeras\u001b[39;00m\u001b[38;5;21;01m.\u001b[39;00m\u001b[38;5;21;01mpreprocessing\u001b[39;00m\u001b[38;5;21;01m.\u001b[39;00m\u001b[38;5;21;01msequence\u001b[39;00m \u001b[38;5;28;01mimport\u001b[39;00m pad_sequences\n\u001b[0;32m      3\u001b[0m \u001b[38;5;66;03m# Load the training data\u001b[39;00m\n\u001b[0;32m      4\u001b[0m data \u001b[38;5;241m=\u001b[39m pd\u001b[38;5;241m.\u001b[39mread_csv(\u001b[38;5;124m'\u001b[39m\u001b[38;5;124mtrain.csv\u001b[39m\u001b[38;5;124m'\u001b[39m)\n",
      "\u001b[1;31mModuleNotFoundError\u001b[0m: No module named 'keras'"
     ]
    }
   ],
   "source": [
    "from keras.preprocessing.sequence import pad_sequences\n",
    "\n",
    "# Load the training data\n",
    "data = pd.read_csv('train.csv')\n",
    "transcriptions = data['Transcription'].tolist()\n",
    "\n",
    "# Create a mapping of X-SAMPA symbols to integers\n",
    "all_symbols = set(''.join(transcriptions))\n",
    "symbol_to_int = {symbol: idx for idx, symbol in enumerate(all_symbols, 1)}\n",
    "symbol_to_int['<PAD>'] = 0  # padding symbol\n",
    "symbol_to_int['<OOV>'] = len(symbol_to_int)  # out-of-vocabulary symbol\n",
    "\n",
    "# Convert transcriptions to integer sequences\n",
    "int_sequences = []\n",
    "for transcription in transcriptions:\n",
    "    int_seq = [symbol_to_int.get(symbol, symbol_to_int['<OOV>']) for symbol in transcription]\n",
    "    int_sequences.append(int_seq)\n",
    "\n",
    "# Pad sequences to the same length\n",
    "max_length = max([len(seq) for seq in int_sequences])\n",
    "padded_sequences = pad_sequences(int_sequences, maxlen=max_length, padding='post', value=symbol_to_int['<PAD>'])\n",
    "\n",
    "print(padded_sequences)\n"
   ]
  },
  {
   "cell_type": "markdown",
   "metadata": {},
   "source": [
    "#### 2.2 Spectrogram of the audio files as the target to predict"
   ]
  },
  {
   "cell_type": "code",
   "execution_count": null,
   "metadata": {},
   "outputs": [],
   "source": [
    "spectrograms = []\n",
    "\n",
    "for file in audio_files:\n",
    "    y, sr = librosa.load(file, sr=None)\n",
    "    D = librosa.stft(y)  # Short-Time Fourier Transform\n",
    "    spec = np.abs(D)  # get magnitude\n",
    "    spectrograms.append(spec.T)\n",
    "\n",
    "# As with MFCCs, you can pad your spectrograms if required\n",
    "max_length = max([len(spec) for spec in spectrograms])\n",
    "spectrograms_padded = [np.pad(spec, ((0, max_length - len(spec)), (0, 0)), mode='constant') for spec in spectrograms]\n"
   ]
  }
 ],
 "metadata": {
  "kernelspec": {
   "display_name": "Python 3",
   "language": "python",
   "name": "python3"
  },
  "language_info": {
   "codemirror_mode": {
    "name": "ipython",
    "version": 3
   },
   "file_extension": ".py",
   "mimetype": "text/x-python",
   "name": "python",
   "nbconvert_exporter": "python",
   "pygments_lexer": "ipython3",
   "version": "3.8.3"
  }
 },
 "nbformat": 4,
 "nbformat_minor": 4
}
